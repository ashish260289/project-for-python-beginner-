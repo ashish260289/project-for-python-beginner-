{
 "cells": [
  {
   "cell_type": "markdown",
   "id": "c25bca1e-2e6e-4355-a2e3-590cea472bc3",
   "metadata": {},
   "source": [
    "# dice rolling games"
   ]
  },
  {
   "cell_type": "code",
   "execution_count": 2,
   "id": "b805c67d-2151-4a41-8a46-9b9ae2809b3b",
   "metadata": {},
   "outputs": [],
   "source": [
    "# loop\n",
    "#Ask: Roll the dice?\n",
    "#if user enters Y\n",
    "    # generate two random numbers\n",
    "    #print them\n",
    "#if user enters N\n",
    "    #print thank you message\n",
    "    #terminate \n",
    "#else\n",
    "    #print invalid choice"
   ]
  },
  {
   "cell_type": "code",
   "execution_count": 18,
   "id": "f27dfbd9-764e-4445-b89c-858414f094f3",
   "metadata": {},
   "outputs": [
    {
     "name": "stdin",
     "output_type": "stream",
     "text": [
      "Roll the dice? (y/n):  y\n"
     ]
    },
    {
     "name": "stdout",
     "output_type": "stream",
     "text": [
      "(3,1)\n"
     ]
    },
    {
     "name": "stdin",
     "output_type": "stream",
     "text": [
      "Roll the dice? (y/n):  y\n"
     ]
    },
    {
     "name": "stdout",
     "output_type": "stream",
     "text": [
      "(1,3)\n"
     ]
    },
    {
     "name": "stdin",
     "output_type": "stream",
     "text": [
      "Roll the dice? (y/n):  y\n"
     ]
    },
    {
     "name": "stdout",
     "output_type": "stream",
     "text": [
      "(2,2)\n"
     ]
    },
    {
     "name": "stdin",
     "output_type": "stream",
     "text": [
      "Roll the dice? (y/n):  y\n"
     ]
    },
    {
     "name": "stdout",
     "output_type": "stream",
     "text": [
      "(5,1)\n"
     ]
    },
    {
     "name": "stdin",
     "output_type": "stream",
     "text": [
      "Roll the dice? (y/n):  y\n"
     ]
    },
    {
     "name": "stdout",
     "output_type": "stream",
     "text": [
      "(6,5)\n"
     ]
    },
    {
     "name": "stdin",
     "output_type": "stream",
     "text": [
      "Roll the dice? (y/n):  y\n"
     ]
    },
    {
     "name": "stdout",
     "output_type": "stream",
     "text": [
      "(6,3)\n"
     ]
    },
    {
     "name": "stdin",
     "output_type": "stream",
     "text": [
      "Roll the dice? (y/n):  g\n"
     ]
    },
    {
     "name": "stdout",
     "output_type": "stream",
     "text": [
      "Invalid Choice!\n"
     ]
    },
    {
     "name": "stdin",
     "output_type": "stream",
     "text": [
      "Roll the dice? (y/n):  g\n"
     ]
    },
    {
     "name": "stdout",
     "output_type": "stream",
     "text": [
      "Invalid Choice!\n"
     ]
    },
    {
     "name": "stdin",
     "output_type": "stream",
     "text": [
      "Roll the dice? (y/n):  f\n"
     ]
    },
    {
     "name": "stdout",
     "output_type": "stream",
     "text": [
      "Invalid Choice!\n"
     ]
    },
    {
     "name": "stdin",
     "output_type": "stream",
     "text": [
      "Roll the dice? (y/n):  n\n"
     ]
    },
    {
     "name": "stdout",
     "output_type": "stream",
     "text": [
      "Thanks for playing!\n"
     ]
    }
   ],
   "source": [
    "import random\n",
    "while True:\n",
    "    user_input=input('Roll the dice? (y/n): ').lower()\n",
    "    if user_input=='y':\n",
    "        die1=random.randint(1,6)\n",
    "        die2=random.randint(1,6)\n",
    "        print(f'({die1},{die2})')\n",
    "    elif user_input=='n':\n",
    "        print('Thanks for playing!')\n",
    "        break\n",
    "    else:\n",
    "        print('Invalid Choice!')\n"
   ]
  },
  {
   "cell_type": "code",
   "execution_count": null,
   "id": "6dffd043-dff8-4023-ac3e-56750c5b90ea",
   "metadata": {},
   "outputs": [],
   "source": []
  }
 ],
 "metadata": {
  "kernelspec": {
   "display_name": "Python 3 (ipykernel)",
   "language": "python",
   "name": "python3"
  },
  "language_info": {
   "codemirror_mode": {
    "name": "ipython",
    "version": 3
   },
   "file_extension": ".py",
   "mimetype": "text/x-python",
   "name": "python",
   "nbconvert_exporter": "python",
   "pygments_lexer": "ipython3",
   "version": "3.11.7"
  }
 },
 "nbformat": 4,
 "nbformat_minor": 5
}
